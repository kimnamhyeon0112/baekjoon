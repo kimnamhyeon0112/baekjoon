{
 "cells": [
  {
   "cell_type": "code",
   "execution_count": 17,
   "metadata": {},
   "outputs": [
    {
     "name": "stdout",
     "output_type": "stream",
     "text": [
      "ws:40, sh:65, sg:100, sung:40, gs:95\n",
      "68\n"
     ]
    }
   ],
   "source": [
    "ws = int(input())\n",
    "sh = int(input())\n",
    "sg = int(input())\n",
    "sung = int(input())\n",
    "gs = int(input())\n",
    "\n",
    "def check_under_40(ws, sh, sg, sung, gs):\n",
    "    if ws < 40: ws = 40\n",
    "    if sh < 40: sh = 40\n",
    "    if sg < 40: sg = 40\n",
    "    if sung < 40: sung = 40\n",
    "    if gs < 40: gs = 40\n",
    "    sum = ws+sh+sg+sung+gs\n",
    "    avg = int(sum/5)\n",
    "    print(avg)\n",
    "    \n",
    "check_under_40(ws, sh, sg, sung, gs)"
   ]
  }
 ],
 "metadata": {
  "kernelspec": {
   "display_name": "Python 3",
   "language": "python",
   "name": "python3"
  },
  "language_info": {
   "codemirror_mode": {
    "name": "ipython",
    "version": 3
   },
   "file_extension": ".py",
   "mimetype": "text/x-python",
   "name": "python",
   "nbconvert_exporter": "python",
   "pygments_lexer": "ipython3",
   "version": "3.11.1"
  },
  "orig_nbformat": 4
 },
 "nbformat": 4,
 "nbformat_minor": 2
}
