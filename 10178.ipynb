{
 "cells": [
  {
   "cell_type": "code",
   "execution_count": 2,
   "metadata": {},
   "outputs": [
    {
     "name": "stdout",
     "output_type": "stream",
     "text": [
      "You get 7 piece(s) and your dad gets 1 piece(s).\n",
      "You get 3 piece(s) and your dad gets 0 piece(s).\n",
      "You get 12 piece(s) and your dad gets 3 piece(s).\n",
      "You get 1 piece(s) and your dad gets 3 piece(s).\n",
      "You get 20 piece(s) and your dad gets 1 piece(s).\n"
     ]
    }
   ],
   "source": [
    "N = int(input())\n",
    "for i in range(N):\n",
    "    candy, kids = map(int, input().split())\n",
    "    kids_candy = candy//kids\n",
    "    father = candy%kids\n",
    "    print(\"You get {0} piece(s) and your dad gets {1} piece(s).\".format(kids_candy, father))"
   ]
  }
 ],
 "metadata": {
  "kernelspec": {
   "display_name": "Python 3",
   "language": "python",
   "name": "python3"
  },
  "language_info": {
   "codemirror_mode": {
    "name": "ipython",
    "version": 3
   },
   "file_extension": ".py",
   "mimetype": "text/x-python",
   "name": "python",
   "nbconvert_exporter": "python",
   "pygments_lexer": "ipython3",
   "version": "3.11.1"
  },
  "orig_nbformat": 4
 },
 "nbformat": 4,
 "nbformat_minor": 2
}
