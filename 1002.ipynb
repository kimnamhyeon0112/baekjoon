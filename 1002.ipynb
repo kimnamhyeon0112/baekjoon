{
 "cells": [
  {
   "cell_type": "code",
   "execution_count": 3,
   "metadata": {},
   "outputs": [
    {
     "name": "stdout",
     "output_type": "stream",
     "text": [
      "2\n"
     ]
    }
   ],
   "source": [
    "import math as m\n",
    "\n",
    "n = int(input())\n",
    "for i in range(n):\n",
    "    x1, y1, r1, x2, y2, r2 = map(int, input().split())\n",
    "    distance = m.sqrt(m.pow((x2-x1),2) - m.pow((y2-y1),2))\n",
    "    if distance == 0 and r1 == r2:\n",
    "        print(-1)\n",
    "    elif abs(r1-r2) == distance or r1 + r2 == distance:\n",
    "        print(1)\n",
    "    elif abs(r1-r2) < distance < (r1+r2):\n",
    "        print(2)\n",
    "    else:\n",
    "        print(0)"
   ]
  }
 ],
 "metadata": {
  "kernelspec": {
   "display_name": "Python 3",
   "language": "python",
   "name": "python3"
  },
  "language_info": {
   "codemirror_mode": {
    "name": "ipython",
    "version": 3
   },
   "file_extension": ".py",
   "mimetype": "text/x-python",
   "name": "python",
   "nbconvert_exporter": "python",
   "pygments_lexer": "ipython3",
   "version": "3.11.1"
  },
  "orig_nbformat": 4
 },
 "nbformat": 4,
 "nbformat_minor": 2
}
