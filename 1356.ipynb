{
 "cells": [
  {
   "cell_type": "code",
   "execution_count": 15,
   "metadata": {},
   "outputs": [
    {
     "name": "stdout",
     "output_type": "stream",
     "text": [
      "NO\n"
     ]
    }
   ],
   "source": [
    "N = input()\n",
    "ok = 0\n",
    "for i in range(1, len(N)):\n",
    "    s1, s2 = N[:i], N[i:]\n",
    "    m1 = m2 = 1\n",
    "    for n in s1:\n",
    "        m1 *= int(n)\n",
    "    for n in s2:\n",
    "        m2 *= int(n)\n",
    "    if m1 == m2:\n",
    "        ok = 1\n",
    "        break\n",
    "print(\"YES\" if ok else \"NO\")"
   ]
  }
 ],
 "metadata": {
  "kernelspec": {
   "display_name": "Python 3",
   "language": "python",
   "name": "python3"
  },
  "language_info": {
   "codemirror_mode": {
    "name": "ipython",
    "version": 3
   },
   "file_extension": ".py",
   "mimetype": "text/x-python",
   "name": "python",
   "nbconvert_exporter": "python",
   "pygments_lexer": "ipython3",
   "version": "3.11.1"
  },
  "orig_nbformat": 4
 },
 "nbformat": 4,
 "nbformat_minor": 2
}
