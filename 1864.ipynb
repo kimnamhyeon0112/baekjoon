{
 "cells": [
  {
   "cell_type": "code",
   "execution_count": 2,
   "metadata": {},
   "outputs": [
    {
     "name": "stdout",
     "output_type": "stream",
     "text": [
      "158\n",
      "1984\n",
      "-47\n",
      "4\n"
     ]
    }
   ],
   "source": [
    "d = {'-': 0, '\\\\': 1, '(': 2, '@': 3, '?': 4, '>': 5, '&': 6, '%': 7, '/': -1}\n",
    "while True:\n",
    "    res = 0\n",
    "    octopus = input()\n",
    "    if octopus == \"#\":\n",
    "        break\n",
    "    else:\n",
    "        for i in range(len(octopus)):\n",
    "            res += d[octopus[i]] * 8 ** (len(octopus)-i-1)\n",
    "        print(res)"
   ]
  }
 ],
 "metadata": {
  "kernelspec": {
   "display_name": "Python 3",
   "language": "python",
   "name": "python3"
  },
  "language_info": {
   "codemirror_mode": {
    "name": "ipython",
    "version": 3
   },
   "file_extension": ".py",
   "mimetype": "text/x-python",
   "name": "python",
   "nbconvert_exporter": "python",
   "pygments_lexer": "ipython3",
   "version": "3.11.1"
  },
  "orig_nbformat": 4
 },
 "nbformat": 4,
 "nbformat_minor": 2
}
