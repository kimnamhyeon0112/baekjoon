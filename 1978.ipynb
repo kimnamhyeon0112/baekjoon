{
 "cells": [
  {
   "cell_type": "code",
   "execution_count": 26,
   "metadata": {},
   "outputs": [
    {
     "name": "stdout",
     "output_type": "stream",
     "text": [
      "4\n"
     ]
    }
   ],
   "source": [
    "import math\n",
    "\n",
    "n = int(input())\n",
    "num_list = list(map(int, input().split()))\n",
    "max_num = max(num_list)\n",
    "\n",
    "array = [True for _ in range(max_num + 1)]\n",
    "\n",
    "for i in range(2, int(math.sqrt(max_num)) + 1):\n",
    "    if array[i] == True:\n",
    "        j = 2\n",
    "        while i * j <= max_num:\n",
    "            array[i * j] = False\n",
    "            j += 1\n",
    "\n",
    "prime_count = sum(1 for num in num_list if num >= 2 and array[num])\n",
    "print(prime_count)"
   ]
  }
 ],
 "metadata": {
  "kernelspec": {
   "display_name": "Python 3",
   "language": "python",
   "name": "python3"
  },
  "language_info": {
   "codemirror_mode": {
    "name": "ipython",
    "version": 3
   },
   "file_extension": ".py",
   "mimetype": "text/x-python",
   "name": "python",
   "nbconvert_exporter": "python",
   "pygments_lexer": "ipython3",
   "version": "3.11.1"
  },
  "orig_nbformat": 4
 },
 "nbformat": 4,
 "nbformat_minor": 2
}
