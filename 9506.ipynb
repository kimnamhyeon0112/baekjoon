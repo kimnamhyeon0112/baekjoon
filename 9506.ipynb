{
 "cells": [
  {
   "cell_type": "code",
   "execution_count": null,
   "metadata": {},
   "outputs": [],
   "source": [
    "while True:\n",
    "    n = int(input())\n",
    "    if n == -1 or n < 0:\n",
    "        break\n",
    "    \n",
    "    number = []\n",
    "    result = 0\n",
    "    \n",
    "    for i in range(1, n):\n",
    "        if n % i == 0:\n",
    "            number.append(i)\n",
    "            result += i\n",
    "            \n",
    "    result2 = sum(number)\n",
    "    \n",
    "    if result2 != n:\n",
    "        print(\"{0} is NOT perfect.\".format(n))\n",
    "    else:\n",
    "        divisors = \" + \".join(map(str, number))\n",
    "        print(\"{0} = {1}\".format(n, divisors))"
   ]
  }
 ],
 "metadata": {
  "language_info": {
   "name": "python"
  },
  "orig_nbformat": 4
 },
 "nbformat": 4,
 "nbformat_minor": 2
}
