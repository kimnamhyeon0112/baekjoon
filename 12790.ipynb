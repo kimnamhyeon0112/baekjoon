{
 "cells": [
  {
   "cell_type": "code",
   "execution_count": 10,
   "metadata": {},
   "outputs": [
    {
     "name": "stdout",
     "output_type": "stream",
     "text": [
      "1000\n",
      "500\n",
      "2501\n"
     ]
    }
   ],
   "source": [
    "hero = int(input())\n",
    "for i in range(hero):\n",
    "    HP,MP,AT,DF,UHP,UMP,UAT,UDF = map(int, input().split())\n",
    "    h, m, a, d = HP+UHP, MP+UMP, AT+UAT, DF+UDF\n",
    "    print((max([h, 1])*1)+(max([m, 1])*5)+(max([a, 0])*2)+(2*d))"
   ]
  }
 ],
 "metadata": {
  "kernelspec": {
   "display_name": "Python 3",
   "language": "python",
   "name": "python3"
  },
  "language_info": {
   "codemirror_mode": {
    "name": "ipython",
    "version": 3
   },
   "file_extension": ".py",
   "mimetype": "text/x-python",
   "name": "python",
   "nbconvert_exporter": "python",
   "pygments_lexer": "ipython3",
   "version": "3.11.1"
  },
  "orig_nbformat": 4
 },
 "nbformat": 4,
 "nbformat_minor": 2
}
