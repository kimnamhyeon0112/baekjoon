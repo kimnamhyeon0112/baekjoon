{
 "cells": [
  {
   "cell_type": "code",
   "execution_count": 20,
   "metadata": {},
   "outputs": [
    {
     "name": "stdout",
     "output_type": "stream",
     "text": [
      "7 30\n"
     ]
    }
   ],
   "source": [
    "A, B = map(int, input().split())\n",
    "C = int(input())\n",
    "\n",
    "total_minutes = A * 60 + B + C\n",
    "hour = total_minutes // 60 % 24\n",
    "minute = total_minutes % 60\n",
    "print(hour, minute)"
   ]
  }
 ],
 "metadata": {
  "kernelspec": {
   "display_name": "Python 3",
   "language": "python",
   "name": "python3"
  },
  "language_info": {
   "codemirror_mode": {
    "name": "ipython",
    "version": 3
   },
   "file_extension": ".py",
   "mimetype": "text/x-python",
   "name": "python",
   "nbconvert_exporter": "python",
   "pygments_lexer": "ipython3",
   "version": "3.11.1"
  },
  "orig_nbformat": 4
 },
 "nbformat": 4,
 "nbformat_minor": 2
}
