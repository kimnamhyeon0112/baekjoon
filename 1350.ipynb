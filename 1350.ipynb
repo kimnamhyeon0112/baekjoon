{
 "cells": [
  {
   "cell_type": "code",
   "execution_count": 31,
   "metadata": {},
   "outputs": [
    {
     "name": "stdout",
     "output_type": "stream",
     "text": [
      "114688\n"
     ]
    }
   ],
   "source": [
    "N = int(input())\n",
    "file_sizes = list(map(int, input().split()))\n",
    "cluster_size = int(input())\n",
    "if sum(file_sizes) == 0:\n",
    "    print(0)\n",
    "else:\n",
    "    used_space = sum((file_size + cluster_size - 1) // cluster_size * cluster_size for file_size in file_sizes)\n",
    "    print(used_space)"
   ]
  }
 ],
 "metadata": {
  "kernelspec": {
   "display_name": "Python 3",
   "language": "python",
   "name": "python3"
  },
  "language_info": {
   "codemirror_mode": {
    "name": "ipython",
    "version": 3
   },
   "file_extension": ".py",
   "mimetype": "text/x-python",
   "name": "python",
   "nbconvert_exporter": "python",
   "pygments_lexer": "ipython3",
   "version": "3.11.1"
  },
  "orig_nbformat": 4
 },
 "nbformat": 4,
 "nbformat_minor": 2
}
