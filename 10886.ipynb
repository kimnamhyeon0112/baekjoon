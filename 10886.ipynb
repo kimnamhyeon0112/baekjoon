{
 "cells": [
  {
   "cell_type": "code",
   "execution_count": 24,
   "metadata": {},
   "outputs": [
    {
     "name": "stdout",
     "output_type": "stream",
     "text": [
      "Junhee is not cute!\n"
     ]
    }
   ],
   "source": [
    "N = int(input())\n",
    "zerocnt = onecnt = 0 \n",
    "\n",
    "for i in range(N):\n",
    "    survey = int(input())\n",
    "    if survey == 0: zerocnt += 1\n",
    "    elif survey == 1: onecnt += 1\n",
    "if zerocnt > onecnt: print(\"Junhee is not cute!\")\n",
    "elif zerocnt < onecnt: print(\"Junhee is cute!\")"
   ]
  }
 ],
 "metadata": {
  "kernelspec": {
   "display_name": "Python 3",
   "language": "python",
   "name": "python3"
  },
  "language_info": {
   "codemirror_mode": {
    "name": "ipython",
    "version": 3
   },
   "file_extension": ".py",
   "mimetype": "text/x-python",
   "name": "python",
   "nbconvert_exporter": "python",
   "pygments_lexer": "ipython3",
   "version": "3.11.1"
  },
  "orig_nbformat": 4
 },
 "nbformat": 4,
 "nbformat_minor": 2
}
