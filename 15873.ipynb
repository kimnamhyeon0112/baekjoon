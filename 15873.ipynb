{
 "cells": [
  {
   "cell_type": "code",
   "execution_count": 13,
   "metadata": {},
   "outputs": [
    {
     "name": "stdout",
     "output_type": "stream",
     "text": [
      "11\n"
     ]
    }
   ],
   "source": [
    "n = input()\n",
    "if len(n) == 2:\n",
    "    print(sum(map(int, [n[0], n[1]])))\n",
    "elif len(n) == 4:\n",
    "    print(20)\n",
    "else:\n",
    "    if int(n[-1]) == 0:\n",
    "        print(int(n[0]) + 10)\n",
    "    else:\n",
    "        print(int(n[-1]) + 10)"
   ]
  }
 ],
 "metadata": {
  "kernelspec": {
   "display_name": "Python 3",
   "language": "python",
   "name": "python3"
  },
  "language_info": {
   "codemirror_mode": {
    "name": "ipython",
    "version": 3
   },
   "file_extension": ".py",
   "mimetype": "text/x-python",
   "name": "python",
   "nbconvert_exporter": "python",
   "pygments_lexer": "ipython3",
   "version": "3.11.1"
  },
  "orig_nbformat": 4
 },
 "nbformat": 4,
 "nbformat_minor": 2
}
