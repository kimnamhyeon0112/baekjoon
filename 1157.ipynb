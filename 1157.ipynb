{
 "cells": [
  {
   "cell_type": "code",
   "execution_count": 61,
   "metadata": {},
   "outputs": [
    {
     "name": "stdout",
     "output_type": "stream",
     "text": [
      "A\n"
     ]
    }
   ],
   "source": [
    "sentence = input().lower()\n",
    "word_list = list(set(sentence))\n",
    "make_list = []\n",
    "for i in word_list:\n",
    "    cnt = sentence.count(i)\n",
    "    make_list.append(cnt)\n",
    "\n",
    "if make_list.count(max(make_list)) >= 2:\n",
    "    print(\"?\")\n",
    "else:\n",
    "    print(word_list[(make_list.index(max(make_list)))].upper())"
   ]
  }
 ],
 "metadata": {
  "kernelspec": {
   "display_name": "Python 3",
   "language": "python",
   "name": "python3"
  },
  "language_info": {
   "codemirror_mode": {
    "name": "ipython",
    "version": 3
   },
   "file_extension": ".py",
   "mimetype": "text/x-python",
   "name": "python",
   "nbconvert_exporter": "python",
   "pygments_lexer": "ipython3",
   "version": "3.11.1"
  },
  "orig_nbformat": 4
 },
 "nbformat": 4,
 "nbformat_minor": 2
}
