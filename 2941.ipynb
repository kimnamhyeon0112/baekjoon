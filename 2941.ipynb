{
 "cells": [
  {
   "cell_type": "code",
   "execution_count": 40,
   "metadata": {},
   "outputs": [
    {
     "name": "stdout",
     "output_type": "stream",
     "text": [
      "3\n"
     ]
    }
   ],
   "source": [
    "dictionary = {'c=': 'č', 'c-': 'ć', 'dz=': 'dž', 'd-': 'đ', 'lj': 'lj', 'nj': 'nj', 's=': 'š', 'z=': 'ž'}\n",
    "alphabet = input()\n",
    "\n",
    "for key, value in dictionary.items():\n",
    "    alphabet = alphabet.replace(key, value)\n",
    "\n",
    "for key in ['lj', 'nj', 'dž']:\n",
    "    alphabet = alphabet.replace(key, key[0])\n",
    "\n",
    "print(len(alphabet))"
   ]
  }
 ],
 "metadata": {
  "kernelspec": {
   "display_name": "Python 3",
   "language": "python",
   "name": "python3"
  },
  "language_info": {
   "codemirror_mode": {
    "name": "ipython",
    "version": 3
   },
   "file_extension": ".py",
   "mimetype": "text/x-python",
   "name": "python",
   "nbconvert_exporter": "python",
   "pygments_lexer": "ipython3",
   "version": "3.11.1"
  },
  "orig_nbformat": 4
 },
 "nbformat": 4,
 "nbformat_minor": 2
}
