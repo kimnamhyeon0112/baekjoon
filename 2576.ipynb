{
 "cells": [
  {
   "cell_type": "code",
   "execution_count": 40,
   "metadata": {},
   "outputs": [
    {
     "name": "stdout",
     "output_type": "stream",
     "text": [
      "-1\n"
     ]
    }
   ],
   "source": [
    "min = 100\n",
    "sum = 0\n",
    "for i in range(7):\n",
    "    num = int(input())\n",
    "    odd = num % 2 != 0\n",
    "    if odd:\n",
    "        sum+=num\n",
    "        if num < min:\n",
    "            min = num\n",
    "\n",
    "if sum != 0:\n",
    "    print(sum)\n",
    "    print(min)\n",
    "else:\n",
    "    print(-1)"
   ]
  }
 ],
 "metadata": {
  "kernelspec": {
   "display_name": "Python 3",
   "language": "python",
   "name": "python3"
  },
  "language_info": {
   "codemirror_mode": {
    "name": "ipython",
    "version": 3
   },
   "file_extension": ".py",
   "mimetype": "text/x-python",
   "name": "python",
   "nbconvert_exporter": "python",
   "pygments_lexer": "ipython3",
   "version": "3.11.1"
  },
  "orig_nbformat": 4
 },
 "nbformat": 4,
 "nbformat_minor": 2
}
