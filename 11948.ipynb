{
 "cells": [
  {
   "cell_type": "code",
   "execution_count": 39,
   "metadata": {},
   "outputs": [
    {
     "name": "stdout",
     "output_type": "stream",
     "text": [
      "15\n"
     ]
    }
   ],
   "source": [
    "numbers = []\n",
    "for i in range(6):\n",
    "    num = int(input())\n",
    "    numbers.append(num)\n",
    "    \n",
    "min_atod = min(numbers[:4])\n",
    "min_etof = min(numbers[4:])\n",
    "total = sum(numbers) - min_atod - min_etof\n",
    "print(total)\n",
    "\n",
    "# 축약버전\n",
    "# numbers = []\n",
    "# for i in range(6):\n",
    "#     numbers.append(int(input()))\n",
    "    \n",
    "# atod = sorted(numbers[:4])\n",
    "# etof = numbers[4:]\n",
    "# print(sum(atod[1:]) + max(etof))"
   ]
  }
 ],
 "metadata": {
  "kernelspec": {
   "display_name": "Python 3",
   "language": "python",
   "name": "python3"
  },
  "language_info": {
   "codemirror_mode": {
    "name": "ipython",
    "version": 3
   },
   "file_extension": ".py",
   "mimetype": "text/x-python",
   "name": "python",
   "nbconvert_exporter": "python",
   "pygments_lexer": "ipython3",
   "version": "3.11.1"
  },
  "orig_nbformat": 4
 },
 "nbformat": 4,
 "nbformat_minor": 2
}
